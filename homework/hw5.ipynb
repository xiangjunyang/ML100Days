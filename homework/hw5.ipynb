{
 "cells": [
  {
   "cell_type": "code",
   "execution_count": 1,
   "metadata": {},
   "outputs": [],
   "source": [
    "import numpy as np"
   ]
  },
  {
   "cell_type": "code",
   "execution_count": 2,
   "metadata": {},
   "outputs": [],
   "source": [
    "english_score = np.array([55,89,76,65,48,70])\n",
    "math_score = np.array([60,85,60,68,np.nan,60])\n",
    "chinese_score = np.array([65,90,82,72,66,77])"
   ]
  },
  {
   "cell_type": "code",
   "execution_count": 3,
   "metadata": {},
   "outputs": [],
   "source": [
    "#1. 請計算各科成績平均、最大值、最小值、標準差，其中數學缺一筆資料可忽略?"
   ]
  },
  {
   "cell_type": "code",
   "execution_count": 4,
   "metadata": {},
   "outputs": [
    {
     "name": "stdout",
     "output_type": "stream",
     "text": [
      "average of grade =  [67.16666667 66.6        75.33333333]\n",
      "max of grade =  [89. 85. 90.]\n",
      "min of grade =  [48. 60. 65.]\n",
      "std of grade =  [13.43399502         nan  8.8254682 ]\n"
     ]
    }
   ],
   "source": [
    "avg = np.nanmean([english_score,math_score,chinese_score], axis =1 )\n",
    "max_grade = np.nanmax([english_score,math_score,chinese_score], axis =1 )\n",
    "min_grade = np.nanmin([english_score,math_score,chinese_score], axis =1 )\n",
    "std = np.std([english_score,math_score,chinese_score], axis =1 )\n",
    "print(\"average of grade = \",avg)\n",
    "print(\"max of grade = \",max_grade)\n",
    "print(\"min of grade = \",min_grade)\n",
    "print(\"std of grade = \",std)"
   ]
  },
  {
   "cell_type": "code",
   "execution_count": 5,
   "metadata": {},
   "outputs": [],
   "source": [
    "#2. 第五位同學補考數學後成績為55，請計算補考後數學成績平均、最大值、最小值、標準差?"
   ]
  },
  {
   "cell_type": "code",
   "execution_count": 6,
   "metadata": {},
   "outputs": [
    {
     "data": {
      "text/plain": [
       "array([60., 85., 60., 68., 55., 60.])"
      ]
     },
     "execution_count": 6,
     "metadata": {},
     "output_type": "execute_result"
    }
   ],
   "source": [
    "math_score[4] = 55\n",
    "math_score"
   ]
  },
  {
   "cell_type": "code",
   "execution_count": 7,
   "metadata": {},
   "outputs": [
    {
     "name": "stdout",
     "output_type": "stream",
     "text": [
      "average of math =  64.66666666666667\n",
      "max of math =  85.0\n",
      "min of math =  55.0\n",
      "std of math =  9.860132971832694\n"
     ]
    }
   ],
   "source": [
    "avg = np.mean(math_score)\n",
    "max_grade = np.max(math_score)\n",
    "min_grade = np.min(math_score)\n",
    "std = np.std(math_score)\n",
    "print(\"average of math = \",avg)\n",
    "print(\"max of math = \",max_grade)\n",
    "print(\"min of math = \",min_grade)\n",
    "print(\"std of math = \",std)"
   ]
  },
  {
   "cell_type": "code",
   "execution_count": 8,
   "metadata": {},
   "outputs": [],
   "source": [
    "#3. 用補考後資料找出與國文成績相關係數最高的學科?"
   ]
  },
  {
   "cell_type": "code",
   "execution_count": 9,
   "metadata": {},
   "outputs": [
    {
     "name": "stdout",
     "output_type": "stream",
     "text": [
      "correlate of math & chinese =  [29616.]\n",
      "correlate of english & chinese =  [31055]\n",
      "the most relative with chinese  is english , and correlate =  31055.0\n"
     ]
    }
   ],
   "source": [
    "ma_ch = np.correlate(math_score,chinese_score)\n",
    "en_ch = np.correlate(english_score,chinese_score)\n",
    "higher = np.max([ma_ch,en_ch])\n",
    "higher\n",
    "print(\"correlate of math & chinese = \", ma_ch)\n",
    "print(\"correlate of english & chinese = \", en_ch)\n",
    "print(\"the most relative with chinese  is english , and correlate = \", higher)"
   ]
  },
  {
   "cell_type": "code",
   "execution_count": null,
   "metadata": {},
   "outputs": [],
   "source": []
  }
 ],
 "metadata": {
  "kernelspec": {
   "display_name": "Python 3",
   "language": "python",
   "name": "python3"
  },
  "language_info": {
   "codemirror_mode": {
    "name": "ipython",
    "version": 3
   },
   "file_extension": ".py",
   "mimetype": "text/x-python",
   "name": "python",
   "nbconvert_exporter": "python",
   "pygments_lexer": "ipython3",
   "version": "3.8.5"
  }
 },
 "nbformat": 4,
 "nbformat_minor": 4
}
